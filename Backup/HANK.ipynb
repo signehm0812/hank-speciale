{
 "cells": [
  {
   "cell_type": "markdown",
   "metadata": {},
   "source": [
    "# Test GEModelTools - HANK"
   ]
  },
  {
   "cell_type": "markdown",
   "metadata": {},
   "source": [
    "This notebook shows how to **solve a simple Heterogenous Agent New Keynessian (HANK) model** using the `GEModelTools` package.\n",
    "\n",
    "**The steps of the sequence-space solution method are:**\n",
    "\n",
    "1. Find the stationary equilibrium (steady state for aggregates and distribution).\n",
    "2. Compute Jacobians of the household block and the full model (to unknowns and shocks)\n",
    "3. Find the non-linear transition path or the linearized impulse responses to a given shock path.\n",
    "4. Simulate the linearized model with aggregate risk"
   ]
  },
  {
   "cell_type": "markdown",
   "metadata": {},
   "source": [
    "# Imports"
   ]
  },
  {
   "cell_type": "code",
   "execution_count": 1,
   "metadata": {},
   "outputs": [],
   "source": [
    "%load_ext autoreload\n",
    "%autoreload 2\n",
    "\n",
    "import time\n",
    "import pickle\n",
    "import numpy as np\n",
    "from scipy import optimize\n",
    "\n",
    "import matplotlib.pyplot as plt   \n",
    "plt.style.use('seaborn-whitegrid')\n",
    "prop_cycle = plt.rcParams['axes.prop_cycle']\n",
    "colors = prop_cycle.by_key()['color']\n",
    "\n",
    "from HANKmodel import HANKModelClass"
   ]
  },
  {
   "cell_type": "markdown",
   "metadata": {},
   "source": [
    "# Setup"
   ]
  },
  {
   "cell_type": "code",
   "execution_count": 2,
   "metadata": {},
   "outputs": [],
   "source": [
    "model = HANKModelClass(name='baseline')\n",
    "#print(model)"
   ]
  },
  {
   "cell_type": "markdown",
   "metadata": {
    "tags": []
   },
   "source": [
    "# Step 1: Steady state"
   ]
  },
  {
   "cell_type": "code",
   "execution_count": 3,
   "metadata": {},
   "outputs": [
    {
     "ename": "SystemError",
     "evalue": "CPUDispatcher(<function solve_hh_backwards at 0x0000028895FA2C20>) returned a result with an exception set",
     "output_type": "error",
     "traceback": [
      "\u001b[1;31m---------------------------------------------------------------------------\u001b[0m",
      "\u001b[1;31mZeroDivisionError\u001b[0m                         Traceback (most recent call last)",
      "\u001b[1;31mZeroDivisionError\u001b[0m: division by zero",
      "\nThe above exception was the direct cause of the following exception:\n",
      "\u001b[1;31mSystemError\u001b[0m                               Traceback (most recent call last)",
      "\u001b[1;32mc:\\Users\\Johan\\OneDrive\\Økonomi KU\\Speciale\\GitHub Repositories\\hank-speciale\\HANK.ipynb Cell 8\u001b[0m in \u001b[0;36m<cell line: 1>\u001b[1;34m()\u001b[0m\n\u001b[1;32m----> <a href='vscode-notebook-cell:/c%3A/Users/Johan/OneDrive/%C3%98konomi%20KU/Speciale/GitHub%20Repositories/hank-speciale/HANK.ipynb#X10sZmlsZQ%3D%3D?line=0'>1</a>\u001b[0m model\u001b[39m.\u001b[39;49mfind_ss(do_print\u001b[39m=\u001b[39;49m\u001b[39mTrue\u001b[39;49;00m)\n",
      "File \u001b[1;32mc:\\Users\\Johan\\OneDrive\\Økonomi KU\\Speciale\\GitHub Repositories\\hank-speciale\\steady_state.py:127\u001b[0m, in \u001b[0;36mfind_ss\u001b[1;34m(model, do_print)\u001b[0m\n\u001b[0;32m    125\u001b[0m \u001b[39m# a. find steady state\u001b[39;00m\n\u001b[0;32m    126\u001b[0m t0 \u001b[39m=\u001b[39m time\u001b[39m.\u001b[39mtime()\n\u001b[1;32m--> 127\u001b[0m res \u001b[39m=\u001b[39m optimize\u001b[39m.\u001b[39;49mroot(objective_ss,[par\u001b[39m.\u001b[39;49mbeta, par\u001b[39m.\u001b[39;49mvarphi],method\u001b[39m=\u001b[39;49m\u001b[39m'\u001b[39;49m\u001b[39mhybr\u001b[39;49m\u001b[39m'\u001b[39;49m,tol\u001b[39m=\u001b[39;49mpar\u001b[39m.\u001b[39;49mtol_ss,args\u001b[39m=\u001b[39;49m(model))\n\u001b[0;32m    129\u001b[0m \u001b[39m# final evaluation\u001b[39;00m\n\u001b[0;32m    130\u001b[0m objective_ss(res\u001b[39m.\u001b[39mx,model)\n",
      "File \u001b[1;32mc:\\Users\\Johan\\AppData\\Local\\Programs\\Python\\Python310\\lib\\site-packages\\scipy\\optimize\\_root.py:234\u001b[0m, in \u001b[0;36mroot\u001b[1;34m(fun, x0, args, method, jac, tol, callback, options)\u001b[0m\n\u001b[0;32m    231\u001b[0m         options\u001b[39m.\u001b[39msetdefault(\u001b[39m'\u001b[39m\u001b[39mfatol\u001b[39m\u001b[39m'\u001b[39m, np\u001b[39m.\u001b[39minf)\n\u001b[0;32m    233\u001b[0m \u001b[39mif\u001b[39;00m meth \u001b[39m==\u001b[39m \u001b[39m'\u001b[39m\u001b[39mhybr\u001b[39m\u001b[39m'\u001b[39m:\n\u001b[1;32m--> 234\u001b[0m     sol \u001b[39m=\u001b[39m _root_hybr(fun, x0, args\u001b[39m=\u001b[39margs, jac\u001b[39m=\u001b[39mjac, \u001b[39m*\u001b[39m\u001b[39m*\u001b[39moptions)\n\u001b[0;32m    235\u001b[0m \u001b[39melif\u001b[39;00m meth \u001b[39m==\u001b[39m \u001b[39m'\u001b[39m\u001b[39mlm\u001b[39m\u001b[39m'\u001b[39m:\n\u001b[0;32m    236\u001b[0m     sol \u001b[39m=\u001b[39m _root_leastsq(fun, x0, args\u001b[39m=\u001b[39margs, jac\u001b[39m=\u001b[39mjac, \u001b[39m*\u001b[39m\u001b[39m*\u001b[39moptions)\n",
      "File \u001b[1;32mc:\\Users\\Johan\\AppData\\Local\\Programs\\Python\\Python310\\lib\\site-packages\\scipy\\optimize\\_minpack_py.py:226\u001b[0m, in \u001b[0;36m_root_hybr\u001b[1;34m(func, x0, args, jac, col_deriv, xtol, maxfev, band, eps, factor, diag, **unknown_options)\u001b[0m\n\u001b[0;32m    224\u001b[0m \u001b[39mif\u001b[39;00m \u001b[39mnot\u001b[39;00m \u001b[39misinstance\u001b[39m(args, \u001b[39mtuple\u001b[39m):\n\u001b[0;32m    225\u001b[0m     args \u001b[39m=\u001b[39m (args,)\n\u001b[1;32m--> 226\u001b[0m shape, dtype \u001b[39m=\u001b[39m _check_func(\u001b[39m'\u001b[39;49m\u001b[39mfsolve\u001b[39;49m\u001b[39m'\u001b[39;49m, \u001b[39m'\u001b[39;49m\u001b[39mfunc\u001b[39;49m\u001b[39m'\u001b[39;49m, func, x0, args, n, (n,))\n\u001b[0;32m    227\u001b[0m \u001b[39mif\u001b[39;00m epsfcn \u001b[39mis\u001b[39;00m \u001b[39mNone\u001b[39;00m:\n\u001b[0;32m    228\u001b[0m     epsfcn \u001b[39m=\u001b[39m finfo(dtype)\u001b[39m.\u001b[39meps\n",
      "File \u001b[1;32mc:\\Users\\Johan\\AppData\\Local\\Programs\\Python\\Python310\\lib\\site-packages\\scipy\\optimize\\_minpack_py.py:24\u001b[0m, in \u001b[0;36m_check_func\u001b[1;34m(checker, argname, thefunc, x0, args, numinputs, output_shape)\u001b[0m\n\u001b[0;32m     22\u001b[0m \u001b[39mdef\u001b[39;00m \u001b[39m_check_func\u001b[39m(checker, argname, thefunc, x0, args, numinputs,\n\u001b[0;32m     23\u001b[0m                 output_shape\u001b[39m=\u001b[39m\u001b[39mNone\u001b[39;00m):\n\u001b[1;32m---> 24\u001b[0m     res \u001b[39m=\u001b[39m atleast_1d(thefunc(\u001b[39m*\u001b[39;49m((x0[:numinputs],) \u001b[39m+\u001b[39;49m args)))\n\u001b[0;32m     25\u001b[0m     \u001b[39mif\u001b[39;00m (output_shape \u001b[39mis\u001b[39;00m \u001b[39mnot\u001b[39;00m \u001b[39mNone\u001b[39;00m) \u001b[39mand\u001b[39;00m (shape(res) \u001b[39m!=\u001b[39m output_shape):\n\u001b[0;32m     26\u001b[0m         \u001b[39mif\u001b[39;00m (output_shape[\u001b[39m0\u001b[39m] \u001b[39m!=\u001b[39m \u001b[39m1\u001b[39m):\n",
      "File \u001b[1;32mc:\\Users\\Johan\\OneDrive\\Økonomi KU\\Speciale\\GitHub Repositories\\hank-speciale\\steady_state.py:115\u001b[0m, in \u001b[0;36mobjective_ss\u001b[1;34m(x, model, do_print)\u001b[0m\n\u001b[0;32m    112\u001b[0m par\u001b[39m.\u001b[39mbeta \u001b[39m=\u001b[39m x[\u001b[39m0\u001b[39m]\n\u001b[0;32m    113\u001b[0m par\u001b[39m.\u001b[39mvarphi \u001b[39m=\u001b[39m x[\u001b[39m1\u001b[39m]\n\u001b[1;32m--> 115\u001b[0m evaluate_ss(model,do_print\u001b[39m=\u001b[39;49mdo_print)\n\u001b[0;32m    116\u001b[0m \u001b[39mreturn\u001b[39;00m np\u001b[39m.\u001b[39marray([ss\u001b[39m.\u001b[39mA_hh\u001b[39m-\u001b[39mss\u001b[39m.\u001b[39mB])\n",
      "File \u001b[1;32mc:\\Users\\Johan\\OneDrive\\Økonomi KU\\Speciale\\GitHub Repositories\\hank-speciale\\steady_state.py:100\u001b[0m, in \u001b[0;36mevaluate_ss\u001b[1;34m(model, do_print)\u001b[0m\n\u001b[0;32m     97\u001b[0m ss\u001b[39m.\u001b[39mtau \u001b[39m=\u001b[39m ss\u001b[39m.\u001b[39mr\u001b[39m*\u001b[39mss\u001b[39m.\u001b[39mB \u001b[39m+\u001b[39m ss\u001b[39m.\u001b[39mG\n\u001b[0;32m     99\u001b[0m \u001b[39m# f. household \u001b[39;00m\n\u001b[1;32m--> 100\u001b[0m model\u001b[39m.\u001b[39;49msolve_hh_ss(do_print\u001b[39m=\u001b[39;49mdo_print)\n\u001b[0;32m    101\u001b[0m model\u001b[39m.\u001b[39msimulate_hh_ss(do_print\u001b[39m=\u001b[39mdo_print)\n\u001b[0;32m    103\u001b[0m \u001b[39m# g. market clearing\u001b[39;00m\n",
      "File \u001b[1;32mc:\\users\\johan\\onedrive\\økonomi ku\\speciale\\github repositories\\numeconcopenhagen\\gemodeltools\\GEModelTools\\GEModelClass.py:336\u001b[0m, in \u001b[0;36mGEModelClass.solve_hh_ss\u001b[1;34m(self, do_print, initial_guess)\u001b[0m\n\u001b[0;32m    334\u001b[0m \u001b[39m# ii. step backwards\u001b[39;00m\n\u001b[0;32m    335\u001b[0m stepvars_hh \u001b[39m=\u001b[39m \u001b[39mself\u001b[39m\u001b[39m.\u001b[39m_get_stepvars_hh_ss()\n\u001b[1;32m--> 336\u001b[0m \u001b[39mself\u001b[39m\u001b[39m.\u001b[39msolve_hh_backwards(\u001b[39m*\u001b[39m\u001b[39m*\u001b[39mstepvars_hh)\n\u001b[0;32m    338\u001b[0m \u001b[39m# iii. check change in policy\u001b[39;00m\n\u001b[0;32m    339\u001b[0m max_abs_diff \u001b[39m=\u001b[39m \u001b[39mmax\u001b[39m([np\u001b[39m.\u001b[39mmax(np\u001b[39m.\u001b[39mabs(\u001b[39mgetattr\u001b[39m(ss,pol)\u001b[39m-\u001b[39mold[pol])) \u001b[39mfor\u001b[39;00m pol \u001b[39min\u001b[39;00m \u001b[39mself\u001b[39m\u001b[39m.\u001b[39mpols_hh])\n",
      "\u001b[1;31mSystemError\u001b[0m: CPUDispatcher(<function solve_hh_backwards at 0x0000028895FA2C20>) returned a result with an exception set"
     ]
    }
   ],
   "source": [
    "model.find_ss(do_print=True)"
   ]
  },
  {
   "cell_type": "code",
   "execution_count": null,
   "metadata": {},
   "outputs": [],
   "source": [
    "path = model.path\n",
    "sim = model.sim\n",
    "par = model.par\n",
    "ss = model.ss\n"
   ]
  },
  {
   "cell_type": "markdown",
   "metadata": {},
   "source": [
    "## Policy functions"
   ]
  },
  {
   "cell_type": "code",
   "execution_count": null,
   "metadata": {},
   "outputs": [],
   "source": [
    "fig = plt.figure(figsize=(18,4),dpi=100)\n",
    "a_max = 500\n",
    "\n",
    "# a. consumption\n",
    "I = par.a_grid < a_max\n",
    "\n",
    "ax = fig.add_subplot(1,3,1)\n",
    "ax.set_title(f'consumption')\n",
    "\n",
    "for i_z in [0,par.Nz//2,par.Nz-1]:\n",
    "    ax.plot(par.a_grid[I],ss.c[0,i_z,I],label=f'i_z = {i_z}')\n",
    "\n",
    "ax.legend(frameon=True)\n",
    "ax.set_xlabel('savings, $a_{t-1}$')\n",
    "ax.set_ylabel('consumption, $c_t$')\n",
    "\n",
    "# b. saving\n",
    "I = par.a_grid < a_max\n",
    "\n",
    "ax = fig.add_subplot(1,3,2)\n",
    "ax.set_title(f'saving')\n",
    "\n",
    "for i_z in [0,par.Nz//2,par.Nz-1]:\n",
    "    ax.plot(par.a_grid[I],ss.a[0,i_z,I],label=f'i_z = {i_z}')\n",
    "\n",
    "ax.set_xlabel('savings, $a_{t-1}$')\n",
    "ax.set_ylabel('savings, $a_{t}$')\n",
    "\n",
    "## c. labor supply\n",
    "#I = par.a_grid < a_max\n",
    "#\n",
    "#ax = fig.add_subplot(1,3,3)\n",
    "#ax.set_title(f'labor_supply')\n",
    "#\n",
    "#for i_z in [0,par.Nz//2,par.Nz-1]:\n",
    "#    ax.plot(par.a_grid[I],ss.ell[0,i_z,I],label=f'i_z = {i_z}')\n",
    "#\n",
    "#ax.set_xlabel('savings, $a_{t-1}$')\n",
    "#ax.set_ylabel('labor supply, $n_{t}$')\n",
    "#\n",
    "#fig.tight_layout()"
   ]
  },
  {
   "cell_type": "code",
   "execution_count": null,
   "metadata": {},
   "outputs": [],
   "source": [
    "print(\"Steady state wage = \", ss.w)\n",
    "print(\"Steady state B, G, A, A_HH, tau = \", ss.B, ss.G, ss.A, ss.A_hh, ss.tau)\n",
    "print(\"Steady state interest rate\", ss.r)\n",
    "#print(\"Steady state marginal costs\", ss.mc)\n",
    "print(\"steady state consumption\", ss.C, ss.C_hh)\n",
    "print(\"steady state effective labor supply\", ss.N, ss.N_hh)\n",
    "#print(\"Steady state laborsupply ell \", ss.ell)\n",
    "print(\"varphi= \", par.varphi, \"beta = \", par.beta)"
   ]
  },
  {
   "cell_type": "markdown",
   "metadata": {},
   "source": [
    "## Simulation"
   ]
  },
  {
   "cell_type": "code",
   "execution_count": null,
   "metadata": {},
   "outputs": [],
   "source": [
    "fig = plt.figure(figsize=(12,4),dpi=100)\n",
    "\n",
    "# a. income\n",
    "ax = fig.add_subplot(1,2,1)\n",
    "ax.set_title('productivity')\n",
    "\n",
    "y = np.cumsum(np.sum(ss.D[0],axis=1))\n",
    "ax.plot(par.z_grid,y/y[-1])\n",
    "\n",
    "ax.set_xlabel('productivity, $z_{t}$')\n",
    "ax.set_ylabel('CDF')\n",
    "\n",
    "# b. assets\n",
    "ax = fig.add_subplot(1,2,2)\n",
    "ax.set_title('savings')\n",
    "y = np.insert(np.cumsum(np.sum(ss.D[0],axis=0)),0,0.0)\n",
    "ax.plot(np.insert(par.a_grid,0,par.a_grid[0]),y/y[-1])\n",
    "        \n",
    "ax.set_xlabel('assets, $a_{t}$')\n",
    "ax.set_ylabel('CDF')\n",
    "ax.set_xscale('symlog')\n"
   ]
  },
  {
   "cell_type": "markdown",
   "metadata": {},
   "source": [
    "# Step 2: Compute Jacobians (incl. tests)"
   ]
  },
  {
   "cell_type": "markdown",
   "metadata": {},
   "source": [
    "**Household transition path:**"
   ]
  },
  {
   "cell_type": "code",
   "execution_count": null,
   "metadata": {},
   "outputs": [],
   "source": [
    "model.test_hh_path()"
   ]
  },
  {
   "cell_type": "markdown",
   "metadata": {},
   "source": [
    "**Full transition path:**"
   ]
  },
  {
   "cell_type": "code",
   "execution_count": null,
   "metadata": {},
   "outputs": [],
   "source": [
    "model.test_path()"
   ]
  },
  {
   "cell_type": "code",
   "execution_count": null,
   "metadata": {},
   "outputs": [],
   "source": [
    "model.test_jacs(s_list=[50,100,150])"
   ]
  },
  {
   "cell_type": "markdown",
   "metadata": {},
   "source": [
    "# Step 3a: Find non-linear transition path"
   ]
  },
  {
   "cell_type": "markdown",
   "metadata": {},
   "source": [
    "## Find transition path"
   ]
  },
  {
   "cell_type": "code",
   "execution_count": null,
   "metadata": {
    "tags": []
   },
   "outputs": [],
   "source": [
    "par.jump_istar = -0.10/4\n",
    "model.find_transition_path(do_print=True)"
   ]
  },
  {
   "cell_type": "markdown",
   "metadata": {},
   "source": [
    "## Plot transitions"
   ]
  },
  {
   "cell_type": "code",
   "execution_count": null,
   "metadata": {},
   "outputs": [],
   "source": [
    "paths = ['i','pi','r','C']\n",
    "lvl_value = ['i','pi','r']\n",
    "model.show_IRFs(paths,lvl_value=lvl_value,T_max=20,ncols=3)"
   ]
  },
  {
   "cell_type": "markdown",
   "metadata": {},
   "source": [
    "# Step 3b: Find linearized IRFs"
   ]
  },
  {
   "cell_type": "code",
   "execution_count": null,
   "metadata": {},
   "outputs": [],
   "source": [
    "model.find_IRFs(do_print=True)"
   ]
  },
  {
   "cell_type": "code",
   "execution_count": null,
   "metadata": {},
   "outputs": [],
   "source": [
    "paths = ['C']\n",
    "model.show_IRFs(paths,T_max=20,ncols=3,do_linear=True)"
   ]
  },
  {
   "cell_type": "markdown",
   "metadata": {},
   "source": [
    "# Step 4. Simulation"
   ]
  },
  {
   "cell_type": "code",
   "execution_count": null,
   "metadata": {
    "tags": []
   },
   "outputs": [],
   "source": [
    "np.random.seed(1917)\n",
    "model.simulate(do_print=True)"
   ]
  },
  {
   "cell_type": "code",
   "execution_count": null,
   "metadata": {},
   "outputs": [],
   "source": [
    "def model_sim():\n",
    "    \n",
    "    fig = plt.figure(figsize=(12,8),dpi=100)\n",
    "\n",
    "    ax = fig.add_subplot(2,2,1)\n",
    "    ax.set_title('i')\n",
    "    ax.plot(ss.i+sim.di,ls='--')\n",
    "    ax.axhline(ss.i,color='black',zorder=0)\n",
    "\n",
    "    ax = fig.add_subplot(2,2,2)\n",
    "    ax.set_title('pi')\n",
    "    ax.plot(ss.pi+sim.dpi,ls='--',)\n",
    "    ax.axhline(ss.pi,color='black',zorder=0)\n",
    "    \n",
    "    ax = fig.add_subplot(2,2,3)\n",
    "    ax.set_title('r')\n",
    "    ax.plot(ss.r+sim.dr,ls='--',)\n",
    "    ax.axhline(ss.r,color='black',zorder=0)\n",
    "    \n",
    "    ax = fig.add_subplot(2,2,4)\n",
    "    ax.set_title('C')\n",
    "    ax.plot(ss.C+sim.dC,ls='--',)\n",
    "    ax.axhline(ss.C,color='black',zorder=0)\n",
    "    "
   ]
  },
  {
   "cell_type": "code",
   "execution_count": null,
   "metadata": {},
   "outputs": [],
   "source": [
    "model_sim()"
   ]
  }
 ],
 "metadata": {
  "kernelspec": {
   "display_name": "Python 3.10.6 64-bit",
   "language": "python",
   "name": "python3"
  },
  "language_info": {
   "codemirror_mode": {
    "name": "ipython",
    "version": 3
   },
   "file_extension": ".py",
   "mimetype": "text/x-python",
   "name": "python",
   "nbconvert_exporter": "python",
   "pygments_lexer": "ipython3",
   "version": "3.10.6"
  },
  "toc-autonumbering": true,
  "vscode": {
   "interpreter": {
    "hash": "7435fe1bdde4ad16059e7ed627db18d4f555c280a4b22b3595a63f9978b6d7a5"
   }
  }
 },
 "nbformat": 4,
 "nbformat_minor": 4
}
