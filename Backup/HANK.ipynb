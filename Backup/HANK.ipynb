{
 "cells": [
  {
   "cell_type": "markdown",
   "metadata": {},
   "source": [
    "# Test GEModelTools - HANK"
   ]
  },
  {
   "cell_type": "markdown",
   "metadata": {},
   "source": [
    "This notebook shows how to **solve a simple Heterogenous Agent New Keynessian (HANK) model** using the `GEModelTools` package.\n",
    "\n",
    "**The steps of the sequence-space solution method are:**\n",
    "\n",
    "1. Find the stationary equilibrium (steady state for aggregates and distribution).\n",
    "2. Compute Jacobians of the household block and the full model (to unknowns and shocks)\n",
    "3. Find the non-linear transition path or the linearized impulse responses to a given shock path.\n",
    "4. Simulate the linearized model with aggregate risk"
   ]
  },
  {
   "cell_type": "markdown",
   "metadata": {},
   "source": [
    "# Imports"
   ]
  },
  {
   "cell_type": "code",
   "execution_count": 1,
   "metadata": {},
   "outputs": [],
   "source": [
    "%load_ext autoreload\n",
    "%autoreload 2\n",
    "\n",
    "import time\n",
    "import pickle\n",
    "import numpy as np\n",
    "from scipy import optimize\n",
    "\n",
    "import matplotlib.pyplot as plt   \n",
    "plt.style.use('seaborn-whitegrid')\n",
    "prop_cycle = plt.rcParams['axes.prop_cycle']\n",
    "colors = prop_cycle.by_key()['color']  \n",
    "\n",
    "from HANKmodel import HANKModelClass"
   ]
  },
  {
   "cell_type": "markdown",
   "metadata": {},
   "source": [
    "# Setup"
   ]
  },
  {
   "cell_type": "code",
   "execution_count": 2,
   "metadata": {},
   "outputs": [],
   "source": [
    "model = HANKModelClass(name='baseline')\n",
    "#print(model)"
   ]
  },
  {
   "cell_type": "markdown",
   "metadata": {
    "tags": []
   },
   "source": [
    "# Step 1: Steady state"
   ]
  },
  {
   "cell_type": "code",
   "execution_count": 4,
   "metadata": {},
   "outputs": [
    {
     "name": "stdout",
     "output_type": "stream",
     "text": [
      "0.9778367404338651 0.8642511463214556 0.5 1.0 0.5 0.0\n",
      "nan\n",
      "nan\n"
     ]
    }
   ],
   "source": [
    "model.find_ss(do_print=True)"
   ]
  },
  {
   "cell_type": "code",
   "execution_count": null,
   "metadata": {},
   "outputs": [],
   "source": [
    "path = model.path\n",
    "sim = model.sim\n",
    "par = model.par\n",
    "ss = model.ss"
   ]
  },
  {
   "cell_type": "markdown",
   "metadata": {},
   "source": [
    "## Policy functions"
   ]
  },
  {
   "cell_type": "code",
   "execution_count": null,
   "metadata": {},
   "outputs": [],
   "source": [
    "fig = plt.figure(figsize=(18,4),dpi=100)\n",
    "a_max = 500\n",
    "\n",
    "# a. consumption\n",
    "I = par.a_grid < a_max\n",
    "\n",
    "ax = fig.add_subplot(1,3,1)\n",
    "ax.set_title(f'consumption')\n",
    "\n",
    "for i_z in [0,par.Nz//2,par.Nz-1]:\n",
    "    ax.plot(par.a_grid[I],ss.c[0,i_z,I],label=f'i_z = {i_z}')\n",
    "\n",
    "ax.legend(frameon=True)\n",
    "ax.set_xlabel('savings, $a_{t-1}$')\n",
    "ax.set_ylabel('consumption, $c_t$')\n",
    "\n",
    "# b. saving\n",
    "I = par.a_grid < a_max\n",
    "\n",
    "ax = fig.add_subplot(1,3,2)\n",
    "ax.set_title(f'saving')\n",
    "\n",
    "for i_z in [0,par.Nz//2,par.Nz-1]:\n",
    "    ax.plot(par.a_grid[I],ss.a[0,i_z,I],label=f'i_z = {i_z}')\n",
    "\n",
    "ax.set_xlabel('savings, $a_{t-1}$')\n",
    "ax.set_ylabel('savings, $a_{t}$')\n",
    "\n",
    "## c. labor supply\n",
    "#I = par.a_grid < a_max\n",
    "#\n",
    "#ax = fig.add_subplot(1,3,3)\n",
    "#ax.set_title(f'labor_supply')\n",
    "#\n",
    "#for i_z in [0,par.Nz//2,par.Nz-1]:\n",
    "#    ax.plot(par.a_grid[I],ss.ell[0,i_z,I],label=f'i_z = {i_z}')\n",
    "#\n",
    "#ax.set_xlabel('savings, $a_{t-1}$')\n",
    "#ax.set_ylabel('labor supply, $n_{t}$')\n",
    "#\n",
    "#fig.tight_layout()"
   ]
  },
  {
   "cell_type": "code",
   "execution_count": null,
   "metadata": {},
   "outputs": [],
   "source": [
    "print(\"Steady state wage = \", ss.w)\n",
    "print(\"Steady state B, G, A, A_HH, tau = \", ss.B, ss.G, ss.A, ss.A_hh, ss.tau)\n",
    "print(\"Steady state interest rate\", ss.r)\n",
    "#print(\"Steady state marginal costs\", ss.mc)\n",
    "print(\"steady state consumption\", ss.C, ss.C_hh)\n",
    "print(\"steady state effective labor supply\", ss.N, ss.N_hh)\n",
    "#print(\"Steady state laborsupply ell \", ss.ell)\n",
    "print(\"varphi= \", par.varphi, \"beta = \", par.beta)"
   ]
  },
  {
   "cell_type": "markdown",
   "metadata": {},
   "source": [
    "## Simulation"
   ]
  },
  {
   "cell_type": "code",
   "execution_count": null,
   "metadata": {},
   "outputs": [],
   "source": [
    "fig = plt.figure(figsize=(12,4),dpi=100)\n",
    "\n",
    "# a. income\n",
    "ax = fig.add_subplot(1,2,1)\n",
    "ax.set_title('productivity')\n",
    "\n",
    "y = np.cumsum(np.sum(ss.D[0],axis=1))\n",
    "ax.plot(par.z_grid,y/y[-1])\n",
    "\n",
    "ax.set_xlabel('productivity, $z_{t}$')\n",
    "ax.set_ylabel('CDF')\n",
    "\n",
    "# b. assets\n",
    "ax = fig.add_subplot(1,2,2)\n",
    "ax.set_title('savings')\n",
    "y = np.insert(np.cumsum(np.sum(ss.D[0],axis=0)),0,0.0)\n",
    "ax.plot(np.insert(par.a_grid,0,par.a_grid[0]),y/y[-1])\n",
    "        \n",
    "ax.set_xlabel('assets, $a_{t}$')\n",
    "ax.set_ylabel('CDF')\n",
    "ax.set_xscale('symlog')\n"
   ]
  },
  {
   "cell_type": "markdown",
   "metadata": {},
   "source": [
    "# Step 2: Compute Jacobians (incl. tests)"
   ]
  },
  {
   "cell_type": "markdown",
   "metadata": {},
   "source": [
    "**Household transition path:**"
   ]
  },
  {
   "cell_type": "code",
   "execution_count": null,
   "metadata": {},
   "outputs": [],
   "source": [
    "model.test_hh_path()"
   ]
  },
  {
   "cell_type": "markdown",
   "metadata": {},
   "source": [
    "**Full transition path:**"
   ]
  },
  {
   "cell_type": "code",
   "execution_count": null,
   "metadata": {},
   "outputs": [],
   "source": [
    "model.test_path()"
   ]
  },
  {
   "cell_type": "code",
   "execution_count": null,
   "metadata": {},
   "outputs": [],
   "source": [
    "model.test_jacs(s_list=[50,100,150])"
   ]
  },
  {
   "cell_type": "markdown",
   "metadata": {},
   "source": [
    "# Step 3a: Find non-linear transition path"
   ]
  },
  {
   "cell_type": "markdown",
   "metadata": {},
   "source": [
    "## Find transition path"
   ]
  },
  {
   "cell_type": "code",
   "execution_count": null,
   "metadata": {
    "tags": []
   },
   "outputs": [],
   "source": [
    "par.jump_istar = -0.10/4\n",
    "model.find_transition_path(do_print=True)"
   ]
  },
  {
   "cell_type": "markdown",
   "metadata": {},
   "source": [
    "## Plot transitions"
   ]
  },
  {
   "cell_type": "code",
   "execution_count": null,
   "metadata": {},
   "outputs": [],
   "source": [
    "paths = ['i','pi','r','C']\n",
    "lvl_value = ['i','pi','r']\n",
    "model.show_IRFs(paths,lvl_value=lvl_value,T_max=20,ncols=3)"
   ]
  },
  {
   "cell_type": "markdown",
   "metadata": {},
   "source": [
    "# Step 3b: Find linearized IRFs"
   ]
  },
  {
   "cell_type": "code",
   "execution_count": null,
   "metadata": {},
   "outputs": [],
   "source": [
    "model.find_IRFs(do_print=True)"
   ]
  },
  {
   "cell_type": "code",
   "execution_count": null,
   "metadata": {},
   "outputs": [],
   "source": [
    "paths = ['C']\n",
    "model.show_IRFs(paths,T_max=20,ncols=3,do_linear=True)"
   ]
  },
  {
   "cell_type": "markdown",
   "metadata": {},
   "source": [
    "# Step 4. Simulation"
   ]
  },
  {
   "cell_type": "code",
   "execution_count": null,
   "metadata": {
    "tags": []
   },
   "outputs": [],
   "source": [
    "np.random.seed(1917)\n",
    "model.simulate(do_print=True)"
   ]
  },
  {
   "cell_type": "code",
   "execution_count": null,
   "metadata": {},
   "outputs": [],
   "source": [
    "def model_sim():\n",
    "    \n",
    "    fig = plt.figure(figsize=(12,8),dpi=100)\n",
    "\n",
    "    ax = fig.add_subplot(2,2,1)\n",
    "    ax.set_title('i')\n",
    "    ax.plot(ss.i+sim.di,ls='--')\n",
    "    ax.axhline(ss.i,color='black',zorder=0)\n",
    "\n",
    "    ax = fig.add_subplot(2,2,2)\n",
    "    ax.set_title('pi')\n",
    "    ax.plot(ss.pi+sim.dpi,ls='--',)\n",
    "    ax.axhline(ss.pi,color='black',zorder=0)\n",
    "    \n",
    "    ax = fig.add_subplot(2,2,3)\n",
    "    ax.set_title('r')\n",
    "    ax.plot(ss.r+sim.dr,ls='--',)\n",
    "    ax.axhline(ss.r,color='black',zorder=0)\n",
    "    \n",
    "    ax = fig.add_subplot(2,2,4)\n",
    "    ax.set_title('C')\n",
    "    ax.plot(ss.C+sim.dC,ls='--',)\n",
    "    ax.axhline(ss.C,color='black',zorder=0)\n",
    "    "
   ]
  },
  {
   "cell_type": "code",
   "execution_count": null,
   "metadata": {},
   "outputs": [],
   "source": [
    "model_sim()"
   ]
  }
 ],
 "metadata": {
  "kernelspec": {
   "display_name": "Python 3.10.6 64-bit",
   "language": "python",
   "name": "python3"
  },
  "language_info": {
   "codemirror_mode": {
    "name": "ipython",
    "version": 3
   },
   "file_extension": ".py",
   "mimetype": "text/x-python",
   "name": "python",
   "nbconvert_exporter": "python",
   "pygments_lexer": "ipython3",
   "version": "3.10.6"
  },
  "toc-autonumbering": true,
  "vscode": {
   "interpreter": {
    "hash": "7435fe1bdde4ad16059e7ed627db18d4f555c280a4b22b3595a63f9978b6d7a5"
   }
  }
 },
 "nbformat": 4,
 "nbformat_minor": 4
}
